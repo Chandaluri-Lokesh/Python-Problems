{
 "cells": [
  {
   "cell_type": "markdown",
   "metadata": {},
   "source": [
    "Write a Python program to calculate the sum of all even numbers between 1 and a given positive integer n"
   ]
  },
  {
   "cell_type": "code",
   "execution_count": 1,
   "metadata": {},
   "outputs": [
    {
     "name": "stdout",
     "output_type": "stream",
     "text": [
      "Result of sum = 20\n"
     ]
    }
   ],
   "source": [
    "def Addition(n):\n",
    "    result = 0\n",
    "    for i in range(1,n):\n",
    "        if i % 2 == 0:\n",
    "            result += i\n",
    "    return result\n",
    "Number =  int(input(\"Enter a positive integer:\"))\n",
    "Answer = Addition(Number)\n",
    "print(f\"Result of sum = {Answer}\")"
   ]
  }
 ],
 "metadata": {
  "kernelspec": {
   "display_name": "Python 3",
   "language": "python",
   "name": "python3"
  },
  "language_info": {
   "codemirror_mode": {
    "name": "ipython",
    "version": 3
   },
   "file_extension": ".py",
   "mimetype": "text/x-python",
   "name": "python",
   "nbconvert_exporter": "python",
   "pygments_lexer": "ipython3",
   "version": "3.10.11"
  }
 },
 "nbformat": 4,
 "nbformat_minor": 2
}
