{
  "nbformat": 4,
  "nbformat_minor": 0,
  "metadata": {
    "colab": {
      "provenance": [],
      "authorship_tag": "ABX9TyN5NNQOk5WFR6uJtO5mc4/e",
      "include_colab_link": true
    },
    "kernelspec": {
      "name": "python3",
      "display_name": "Python 3"
    },
    "language_info": {
      "name": "python"
    }
  },
  "cells": [
    {
      "cell_type": "markdown",
      "metadata": {
        "id": "view-in-github",
        "colab_type": "text"
      },
      "source": [
        "<a href=\"https://colab.research.google.com/github/Chandaluri-Lokesh/Python-Problems/blob/main/Extracting_Data_PDF.ipynb\" target=\"_parent\"><img src=\"https://colab.research.google.com/assets/colab-badge.svg\" alt=\"Open In Colab\"/></a>"
      ]
    },
    {
      "cell_type": "code",
      "execution_count": null,
      "metadata": {
        "colab": {
          "base_uri": "https://localhost:8080/"
        },
        "id": "MC3lqYUoCFZN",
        "outputId": "0c58fd73-9de2-4c2d-fa17-a7b425988334"
      },
      "outputs": [
        {
          "output_type": "stream",
          "name": "stdout",
          "text": [
            "Collecting PyPDF2\n",
            "  Downloading pypdf2-3.0.1-py3-none-any.whl.metadata (6.8 kB)\n",
            "Downloading pypdf2-3.0.1-py3-none-any.whl (232 kB)\n",
            "\u001b[?25l   \u001b[90m━━━━━━━━━━━━━━━━━━━━━━━━━━━━━━━━━━━━━━━━\u001b[0m \u001b[32m0.0/232.6 kB\u001b[0m \u001b[31m?\u001b[0m eta \u001b[36m-:--:--\u001b[0m\r\u001b[2K   \u001b[91m━━━━━━━━━━━━━━━━━━━━━━━━━━━━━━━━━━━\u001b[0m\u001b[90m╺\u001b[0m\u001b[90m━━━━\u001b[0m \u001b[32m204.8/232.6 kB\u001b[0m \u001b[31m6.0 MB/s\u001b[0m eta \u001b[36m0:00:01\u001b[0m\r\u001b[2K   \u001b[90m━━━━━━━━━━━━━━━━━━━━━━━━━━━━━━━━━━━━━━━━\u001b[0m \u001b[32m232.6/232.6 kB\u001b[0m \u001b[31m3.1 MB/s\u001b[0m eta \u001b[36m0:00:00\u001b[0m\n",
            "\u001b[?25hInstalling collected packages: PyPDF2\n",
            "Successfully installed PyPDF2-3.0.1\n"
          ]
        }
      ],
      "source": [
        "!pip install PyPDF2"
      ]
    },
    {
      "cell_type": "code",
      "source": [
        "import PyPDF2\n",
        "from PyPDF2 import PdfReader"
      ],
      "metadata": {
        "id": "kGvyAFFtCfwe"
      },
      "execution_count": null,
      "outputs": []
    },
    {
      "cell_type": "code",
      "source": [
        "import PyPDF2, urllib, nltk\n",
        "from  io import BytesIO\n",
        "from nltk.tokenize import word_tokenize\n",
        "from nltk.corpus import stopwords"
      ],
      "metadata": {
        "id": "e_dGHGGFDE-u"
      },
      "execution_count": null,
      "outputs": []
    },
    {
      "cell_type": "code",
      "source": [
        "#Reading the PDF file\n",
        "wFile = urllib.request.urlopen('https://www.udri.org/pdf/02%20working%20paper%201.pdf')\n",
        "pdfreader = PyPDF2.PdfReader(BytesIO(wFile.read()))"
      ],
      "metadata": {
        "id": "_3fQ7faTDfCZ"
      },
      "execution_count": null,
      "outputs": []
    },
    {
      "cell_type": "code",
      "source": [
        "#Extracting the page 2 of the document\n",
        "pageObj = pdfreader.pages[1]\n",
        "page2 = pageObj.extract_text()"
      ],
      "metadata": {
        "id": "_RM2--hRELRv"
      },
      "execution_count": null,
      "outputs": []
    },
    {
      "cell_type": "code",
      "source": [
        "nltk.download('punkt_tab')\n",
        "#cleaning the text\n",
        "punctuations = ['(',')',',',';',':','[',']','\"','.','...']\n",
        "tokens = word_tokenize(page2)"
      ],
      "metadata": {
        "colab": {
          "base_uri": "https://localhost:8080/"
        },
        "id": "Bv25UlKPEuZM",
        "outputId": "d4689ace-2b6f-42b0-edf9-2265eae39a9d"
      },
      "execution_count": null,
      "outputs": [
        {
          "output_type": "stream",
          "name": "stderr",
          "text": [
            "[nltk_data] Downloading package punkt_tab to /root/nltk_data...\n",
            "[nltk_data]   Unzipping tokenizers/punkt_tab.zip.\n"
          ]
        }
      ]
    },
    {
      "cell_type": "code",
      "source": [
        "nltk.download('stopwords')\n",
        "stop_words = stopwords.words('english')\n",
        "keywords = [word for word in tokens if not word in stop_words and not word in punctuations]\n",
        "keywords"
      ],
      "metadata": {
        "colab": {
          "base_uri": "https://localhost:8080/"
        },
        "id": "jGDotIfHF4pV",
        "outputId": "428b5341-0cc4-40b5-d864-5490d16da611"
      },
      "execution_count": null,
      "outputs": [
        {
          "output_type": "stream",
          "name": "stderr",
          "text": [
            "[nltk_data] Downloading package stopwords to /root/nltk_data...\n",
            "[nltk_data]   Package stopwords is already up-to-date!\n"
          ]
        },
        {
          "output_type": "execute_result",
          "data": {
            "text/plain": [
              "['Development',\n",
              " 'Plan',\n",
              " 'Greater',\n",
              " 'Mumbai',\n",
              " '2014‐2034',\n",
              " 'Acknowledgements',\n",
              " 'The',\n",
              " 'Consultant',\n",
              " 'wishes',\n",
              " 'thank',\n",
              " 'following',\n",
              " 'individuals',\n",
              " 'Municipal',\n",
              " 'Corporation',\n",
              " 'Greater',\n",
              " 'Mumbai',\n",
              " 'invaluable',\n",
              " 'support',\n",
              " 'insights',\n",
              " 'contributions',\n",
              " 'towards',\n",
              " '‘',\n",
              " 'Working',\n",
              " 'Paper',\n",
              " '1',\n",
              " '–',\n",
              " 'Preparation',\n",
              " 'Base',\n",
              " 'Map',\n",
              " '’',\n",
              " 'preparation',\n",
              " 'Development',\n",
              " 'Plan',\n",
              " 'Greater',\n",
              " 'Mumbai',\n",
              " '2014‐34',\n",
              " '\\uf0a7',\n",
              " 'Mr.',\n",
              " 'Subodh',\n",
              " 'Kumar',\n",
              " 'IAS',\n",
              " 'Municipal',\n",
              " 'Commissioner',\n",
              " '\\uf0a7',\n",
              " 'Mr.',\n",
              " 'Rajeev',\n",
              " 'Kuknoor',\n",
              " 'Chief',\n",
              " 'Engineer',\n",
              " 'Development',\n",
              " 'Plan',\n",
              " '\\uf0a7',\n",
              " 'Mr.',\n",
              " 'Sudhir',\n",
              " 'Ghate',\n",
              " 'Deputy',\n",
              " 'Chief',\n",
              " 'Engineer',\n",
              " 'Development',\n",
              " 'Plan',\n",
              " '\\uf0a7',\n",
              " 'Mr.',\n",
              " 'A.G.',\n",
              " 'Marathe',\n",
              " 'Deputy',\n",
              " 'Chief',\n",
              " 'Engineer',\n",
              " 'Development',\n",
              " 'Plan',\n",
              " '\\uf0a7',\n",
              " 'Mr.',\n",
              " 'R.',\n",
              " 'Balachandran',\n",
              " 'Executive',\n",
              " 'Engineer',\n",
              " 'Town',\n",
              " 'Planning',\n",
              " 'Officer',\n",
              " 'Development',\n",
              " 'Plan',\n",
              " 'Our',\n",
              " 'gratitude',\n",
              " 'following',\n",
              " 'experts',\n",
              " 'invaluable',\n",
              " 'insights',\n",
              " 'support',\n",
              " '\\uf0a7',\n",
              " 'Mr.',\n",
              " 'V.K',\n",
              " 'Phatak',\n",
              " 'Former',\n",
              " 'Chief',\n",
              " 'Town',\n",
              " 'Planner',\n",
              " 'MMRDA',\n",
              " '\\uf0a7',\n",
              " 'Mr.',\n",
              " 'A.N',\n",
              " 'Kale',\n",
              " 'Former',\n",
              " 'Chief',\n",
              " 'Engineer',\n",
              " 'DP',\n",
              " '\\uf0a7',\n",
              " 'Mr.',\n",
              " 'A.',\n",
              " 'S',\n",
              " 'Jain',\n",
              " 'Former',\n",
              " 'Dy.',\n",
              " 'Chief',\n",
              " 'Engineer',\n",
              " 'DP',\n",
              " 'We',\n",
              " 'wish',\n",
              " 'especially',\n",
              " 'thank',\n",
              " 'MCGM',\n",
              " 'officers',\n",
              " 'Mr.',\n",
              " 'Jagdish',\n",
              " 'Talreja',\n",
              " 'Mr.',\n",
              " 'Dinesh',\n",
              " 'Naik',\n",
              " 'Mr.',\n",
              " 'Hiren',\n",
              " 'Daftardar',\n",
              " 'Ms.',\n",
              " 'Anita',\n",
              " 'Naik',\n",
              " 'continual',\n",
              " 'support',\n",
              " 'since',\n",
              " 'beginning',\n",
              " 'project',\n",
              " 'help',\n",
              " 'towards',\n",
              " 'familiarization',\n",
              " 'data',\n",
              " 'collection',\n",
              " 'They',\n",
              " 'instrumental',\n",
              " 'helping',\n",
              " 'contact',\n",
              " 'various',\n",
              " 'MCGM',\n",
              " 'departments',\n",
              " 'well',\n",
              " 'helping',\n",
              " 'establish',\n",
              " 'contact',\n",
              " 'personnel',\n",
              " 'government',\n",
              " 'departments',\n",
              " 'organizations',\n",
              " 'Many',\n",
              " 'thanks',\n",
              " 'MCGM',\n",
              " 'team',\n",
              " 'deploying',\n",
              " 'personnel',\n",
              " 'particularly',\n",
              " 'Mr.',\n",
              " 'Prasad',\n",
              " 'Gharat',\n",
              " 'extensive',\n",
              " 'field',\n",
              " 'visits',\n",
              " 'helped',\n",
              " 'understanding',\n",
              " 'actual',\n",
              " 'ground',\n",
              " 'conditions',\n",
              " 'We',\n",
              " 'apologize',\n",
              " 'inadvertently',\n",
              " 'omitted',\n",
              " 'anyone',\n",
              " 'acknowledgement',\n",
              " 'due',\n",
              " 'We',\n",
              " 'hope',\n",
              " 'anticipate',\n",
              " 'work',\n",
              " \"'s\",\n",
              " 'usefulness',\n",
              " 'intended',\n",
              " 'purpose']"
            ]
          },
          "metadata": {},
          "execution_count": 16
        }
      ]
    },
    {
      "cell_type": "code",
      "source": [
        "name_list = list()\n",
        "check = ['Mr.','Mrs.','Ms.']\n",
        "for idx,token in enumerate(tokens):\n",
        "  if token.startswith(tuple(check)) and idx<(len(tokens)-1):\n",
        "    name = token + ' ' + tokens[idx+1] +' '+ tokens[idx+2]\n",
        "    name_list.append(name)\n",
        "name_list"
      ],
      "metadata": {
        "colab": {
          "base_uri": "https://localhost:8080/"
        },
        "id": "P66Cq2WFGgBZ",
        "outputId": "8a515551-871c-4ff9-a7d1-a21c77db7df9"
      },
      "execution_count": null,
      "outputs": [
        {
          "output_type": "execute_result",
          "data": {
            "text/plain": [
              "['Mr. Subodh Kumar',\n",
              " 'Mr. Rajeev Kuknoor',\n",
              " 'Mr. Sudhir Ghate',\n",
              " 'Mr. A.G. Marathe',\n",
              " 'Mr. R. Balachandran',\n",
              " 'Mr. V.K Phatak',\n",
              " 'Mr. A.N Kale',\n",
              " 'Mr. A. S',\n",
              " 'Mr. Jagdish Talreja',\n",
              " 'Mr. Dinesh Naik',\n",
              " 'Mr. Hiren Daftardar',\n",
              " 'Ms. Anita Naik',\n",
              " 'Mr. Prasad Gharat']"
            ]
          },
          "metadata": {},
          "execution_count": 18
        }
      ]
    },
    {
      "cell_type": "code",
      "source": [
        "wFile.close()"
      ],
      "metadata": {
        "id": "uqc2FVn-H1_h"
      },
      "execution_count": null,
      "outputs": []
    },
    {
      "cell_type": "code",
      "source": [
        "#creating PDF file object\n",
        "pdf = open('sample_data.pdf','rb')\n",
        "pdf_reader = PyPDF2.PdfReader(pdf)\n",
        "\n",
        "#checking number of pages\n",
        "print(\"Number of pages:\",len(pdf_reader.pages))"
      ],
      "metadata": {
        "colab": {
          "base_uri": "https://localhost:8080/"
        },
        "id": "1jU080cYHVb_",
        "outputId": "8c655ba9-357c-4e24-bf6e-96cb05c67b94"
      },
      "execution_count": 27,
      "outputs": [
        {
          "output_type": "stream",
          "name": "stdout",
          "text": [
            "Number of pages: 35\n"
          ]
        }
      ]
    },
    {
      "cell_type": "code",
      "source": [
        "#creating page object\n",
        "page = pdf_reader.pages[1]\n",
        "\n",
        "#extracting text from page\n",
        "print(page.extract_text())"
      ],
      "metadata": {
        "colab": {
          "base_uri": "https://localhost:8080/"
        },
        "id": "aYIn_vGLKg1p",
        "outputId": "986b0d66-a983-4ae4-a6c1-204ce9308064"
      },
      "execution_count": 28,
      "outputs": [
        {
          "output_type": "stream",
          "name": "stdout",
          "text": [
            " \n",
            " \n",
            " Development  Plan for Greater Mumbai 2014‐2034                                                                                                                                                                                                                                                      \n",
            "Acknowledgements  \n",
            "The Consultant  wishes to thank the following  individuals  from the Municipal  Corporation  of \n",
            "Greater Mumbai for their invaluable  support, insights and contributions  towards ‘Working  Paper 1 \n",
            "– Preparation  of Base Map’ for the preparation  of the Development  Plan for Greater Mumbai \n",
            "2014‐34. \n",
            " Mr. Subodh Kumar, IAS, Municipal  Commissioner;  \n",
            " Mr. Rajeev Kuknoor, Chief Engineer Development  Plan; \n",
            " Mr. Sudhir Ghate, Deputy Chief Engineer Development  Plan; \n",
            " Mr. A.G. Marathe, Deputy Chief Engineer Development  Plan; \n",
            " Mr. R. Balachandran,  Executive  Engineer and Town Planning Officer, Development  Plan. \n",
            " Our gratitude  to the following  experts for their invaluable  insights and support: \n",
            " \n",
            "Mr. V.K Phatak, Former Chief Town Planner (MMRDA);  \n",
            " Mr. A.N Kale, Former Chief Engineer, (DP); \n",
            " Mr. A. S Jain Former Dy. Chief Engineer, (DP). \n",
            " We wish to especially  thank MCGM officers, Mr. Jagdish Talreja, Mr. Dinesh Naik, Mr. Hiren \n",
            "Daftardar,  Ms. Anita Naik for their continual  support since the\n",
            " beginning  of the project and their \n",
            "help towards familiarization  and data collection.  They have been instrumental  in helping to \n",
            "contact various MCGM departments  as well as in helping to establish contact with personnel  from \n",
            "other government  departments  and organizations.  Many thanks for the MCGM team, for \n",
            "deploying  personnel,  particularly  Mr. Prasad Gharat, on extensive  field visits that have helped in \n",
            "understanding  actual ground conditions.  \n",
            " \n",
            "We apologize  if we have inadvertently  omitted anyone to whom acknowledgement  is due. We hope \n",
            "and anticipate  the work's usefulness  for the intended purpose. \n",
            " \n"
          ]
        }
      ]
    },
    {
      "cell_type": "code",
      "source": [
        "pdf.close()"
      ],
      "metadata": {
        "id": "HuQVDwrOKpqp"
      },
      "execution_count": 29,
      "outputs": []
    },
    {
      "cell_type": "code",
      "source": [
        "!pip install python-docx"
      ],
      "metadata": {
        "colab": {
          "base_uri": "https://localhost:8080/"
        },
        "id": "bhhDRDduLB0C",
        "outputId": "25ae20f9-f51e-485f-be90-80bc43c155bc"
      },
      "execution_count": 31,
      "outputs": [
        {
          "output_type": "stream",
          "name": "stdout",
          "text": [
            "Collecting python-docx\n",
            "  Downloading python_docx-1.1.2-py3-none-any.whl.metadata (2.0 kB)\n",
            "Requirement already satisfied: lxml>=3.1.0 in /usr/local/lib/python3.11/dist-packages (from python-docx) (5.3.0)\n",
            "Requirement already satisfied: typing-extensions>=4.9.0 in /usr/local/lib/python3.11/dist-packages (from python-docx) (4.12.2)\n",
            "Downloading python_docx-1.1.2-py3-none-any.whl (244 kB)\n",
            "\u001b[2K   \u001b[90m━━━━━━━━━━━━━━━━━━━━━━━━━━━━━━━━━━━━━━━━\u001b[0m \u001b[32m244.3/244.3 kB\u001b[0m \u001b[31m5.3 MB/s\u001b[0m eta \u001b[36m0:00:00\u001b[0m\n",
            "\u001b[?25hInstalling collected packages: python-docx\n",
            "Successfully installed python-docx-1.1.2\n"
          ]
        }
      ]
    },
    {
      "cell_type": "code",
      "source": [
        "#creating word file object\n",
        "import docx\n",
        "doc = open('sample_data.docx','rb')\n",
        "#creating word reader object\n",
        "document = docx.Document(doc)"
      ],
      "metadata": {
        "id": "KzN9au8lLJfb"
      },
      "execution_count": 38,
      "outputs": []
    },
    {
      "cell_type": "code",
      "source": [
        "docu = \"\"\n",
        "for para in document.paragraphs:\n",
        "  docu += para.text\n",
        "docu"
      ],
      "metadata": {
        "colab": {
          "base_uri": "https://localhost:8080/",
          "height": 140
        },
        "id": "1e6UO-wGNJc6",
        "outputId": "f19c4cc2-396d-4e2d-b057-96469320b2c8"
      },
      "execution_count": 40,
      "outputs": [
        {
          "output_type": "execute_result",
          "data": {
            "text/plain": [
              "'DEPARTMENT OF AI&MLII Year B.Tech. -I SemName of Examination: Application Development –Web Design with AI Explore Course Code: MR22-1CS0261Section:----------------------------------------------------------------------------Project Status ReportTitle Name: Banking BotTitle Name Change (if any): NoneModules & Architecture:Modules:User Authentication:Implementing a secure authentication system to verify user identities. This includes username/password authentication or two-factor authentication (2FA).Account Management:A functionality for users to create accounts, update their personal information, and manage their accounts (e.g., view balance, change password).Transaction Processing:Modules to facilitate basic banking transactions, such as transferring funds between accounts, checking balances, and viewing transaction history.Logging and Audit Trails:Maintaining detailed logs of user interactions and transactions for auditing and troubleshooting purposes.User Interface:A user-friendly interface for users to interact with the bot. This can be a web-based interface, a mobile app, or a chat-based interface, depending on your target platform.Integration with Banking Systems:Connections with banking APIs or backend systems to perform actual banking operations. This involves interfacing with core banking systems, payment gateways, and databases.User Support:Provides user support channels, such as FAQs, chat support, or email support, to assist users with their inquiries and issues.Testing and Quality Assurance:Implements a thorough testing and quality assurance process to identify and fix bugs, security vulnerabilities, and usability issues.Deployment and Hosting:A hosting environment and deploy your banking bot securely. Consider scalability and redundancy for high availability.Documentation:A Comprehensive documentation for both users and developers, explaining how to use the banking bot and integrate it with other systems if needed.   Architectural Structure:Student Batch Details:Signature of Guide\\tSignature of Head of the Department'"
            ],
            "application/vnd.google.colaboratory.intrinsic+json": {
              "type": "string"
            }
          },
          "metadata": {},
          "execution_count": 40
        }
      ]
    },
    {
      "cell_type": "code",
      "source": [
        "#output para number and para content\n",
        "for i in range(len(document.paragraphs)):\n",
        "  print(\"The content of para\"+str(i)+\"is:\"+ document.paragraphs[i].text+\"\\n\")"
      ],
      "metadata": {
        "colab": {
          "base_uri": "https://localhost:8080/"
        },
        "id": "2OKbqM-2Ntry",
        "outputId": "830d0a25-0819-4bc7-d6e0-4efe24349d19"
      },
      "execution_count": 41,
      "outputs": [
        {
          "output_type": "stream",
          "name": "stdout",
          "text": [
            "The content of para0is:\n",
            "\n",
            "The content of para1is:\n",
            "\n",
            "The content of para2is:\n",
            "\n",
            "The content of para3is:\n",
            "\n",
            "The content of para4is:\n",
            "\n",
            "The content of para5is:\n",
            "\n",
            "The content of para6is:\n",
            "\n",
            "The content of para7is:\n",
            "\n",
            "The content of para8is:DEPARTMENT OF AI&ML\n",
            "\n",
            "The content of para9is:II Year B.Tech. -I Sem\n",
            "\n",
            "The content of para10is:Name of Examination: Application Development –Web Design with AI Explore Course Code: MR22-1CS0261\n",
            "\n",
            "The content of para11is:Section:\n",
            "\n",
            "The content of para12is:----------------------------------------------------------------------------\n",
            "\n",
            "The content of para13is:Project Status Report\n",
            "\n",
            "The content of para14is:\n",
            "\n",
            "The content of para15is:Title Name: Banking Bot\n",
            "\n",
            "The content of para16is:Title Name Change (if any): None\n",
            "\n",
            "The content of para17is:Modules & Architecture:\n",
            "\n",
            "The content of para18is:Modules:\n",
            "\n",
            "The content of para19is:\n",
            "\n",
            "The content of para20is:User Authentication:\n",
            "\n",
            "The content of para21is:Implementing a secure authentication system to verify user identities. This includes username/password authentication or two-factor authentication (2FA).\n",
            "\n",
            "The content of para22is:Account Management:\n",
            "\n",
            "The content of para23is:A functionality for users to create accounts, update their personal information, and manage their accounts (e.g., view balance, change password).\n",
            "\n",
            "The content of para24is:Transaction Processing:\n",
            "\n",
            "The content of para25is:Modules to facilitate basic banking transactions, such as transferring funds between accounts, checking balances, and viewing transaction history.\n",
            "\n",
            "The content of para26is:Logging and Audit Trails:\n",
            "\n",
            "The content of para27is:Maintaining detailed logs of user interactions and transactions for auditing and troubleshooting purposes.\n",
            "\n",
            "The content of para28is:User Interface:\n",
            "\n",
            "The content of para29is:A user-friendly interface for users to interact with the bot. This can be a web-based interface, a mobile app, or a chat-based interface, depending on your target platform.\n",
            "\n",
            "The content of para30is:Integration with Banking Systems:\n",
            "\n",
            "The content of para31is:Connections with banking APIs or backend systems to perform actual banking operations. This involves interfacing with core banking systems, payment gateways, and databases.\n",
            "\n",
            "The content of para32is:User Support:\n",
            "\n",
            "The content of para33is:Provides user support channels, such as FAQs, chat support, or email support, to assist users with their inquiries and issues.\n",
            "\n",
            "The content of para34is:Testing and Quality Assurance:\n",
            "\n",
            "The content of para35is:Implements a thorough testing and quality assurance process to identify and fix bugs, security vulnerabilities, and usability issues.\n",
            "\n",
            "The content of para36is:Deployment and Hosting:\n",
            "\n",
            "The content of para37is:A hosting environment and deploy your banking bot securely. Consider scalability and redundancy for high availability.\n",
            "\n",
            "The content of para38is:Documentation:\n",
            "\n",
            "The content of para39is:A Comprehensive documentation for both users and developers, explaining how to use the banking bot and integrate it with other systems if needed.\n",
            "\n",
            "The content of para40is:\n",
            "\n",
            "The content of para41is:\n",
            "\n",
            "The content of para42is:\n",
            "\n",
            "The content of para43is:\n",
            "\n",
            "The content of para44is:\n",
            "\n",
            "The content of para45is:\n",
            "\n",
            "The content of para46is:\n",
            "\n",
            "The content of para47is:   \n",
            "\n",
            "The content of para48is:\n",
            "\n",
            "The content of para49is:Architectural Structure:\n",
            "\n",
            "The content of para50is:\n",
            "\n",
            "The content of para51is:\n",
            "\n",
            "The content of para52is:\n",
            "\n",
            "The content of para53is:\n",
            "\n",
            "The content of para54is:\n",
            "\n",
            "The content of para55is:\n",
            "\n",
            "The content of para56is:\n",
            "\n",
            "The content of para57is:\n",
            "\n",
            "The content of para58is:Student Batch Details:\n",
            "\n",
            "The content of para59is:\n",
            "\n",
            "The content of para60is:\n",
            "\n",
            "The content of para61is:\n",
            "\n",
            "The content of para62is:\n",
            "\n",
            "The content of para63is:\n",
            "\n",
            "The content of para64is:\n",
            "\n",
            "The content of para65is:Signature of Guide\tSignature of Head of the Department\n",
            "\n"
          ]
        }
      ]
    }
  ]
}