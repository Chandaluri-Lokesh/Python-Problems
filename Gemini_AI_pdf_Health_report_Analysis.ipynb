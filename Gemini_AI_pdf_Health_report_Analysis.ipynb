{
  "nbformat": 4,
  "nbformat_minor": 0,
  "metadata": {
    "colab": {
      "provenance": [],
      "authorship_tag": "ABX9TyOjc9SvbYJDY2CPEmIjPN3P",
      "include_colab_link": true
    },
    "kernelspec": {
      "name": "python3",
      "display_name": "Python 3"
    },
    "language_info": {
      "name": "python"
    }
  },
  "cells": [
    {
      "cell_type": "markdown",
      "metadata": {
        "id": "view-in-github",
        "colab_type": "text"
      },
      "source": [
        "<a href=\"https://colab.research.google.com/github/Chandaluri-Lokesh/Python-Problems/blob/main/Gemini_AI_pdf_Health_report_Analysis.ipynb\" target=\"_parent\"><img src=\"https://colab.research.google.com/assets/colab-badge.svg\" alt=\"Open In Colab\"/></a>"
      ]
    },
    {
      "cell_type": "code",
      "source": [
        "# Configure Gemini API\n",
        "\n",
        "import google.generativeai as genai\n",
        "\n",
        "from google.colab import userdata\n",
        "\n",
        "GOOGLE_API_KEY=userdata.get('GOOGLE_API_KEY')\n",
        "\n",
        "genai.configure(api_key=GOOGLE_API_KEY)"
      ],
      "metadata": {
        "id": "vAfDKNDCifuc"
      },
      "execution_count": 5,
      "outputs": []
    },
    {
      "cell_type": "code",
      "source": [
        "pip install PyPDF2"
      ],
      "metadata": {
        "colab": {
          "base_uri": "https://localhost:8080/"
        },
        "id": "6MaQse6TigJw",
        "outputId": "5784c208-0dbd-4f3d-eef8-9a79cc4c7933"
      },
      "execution_count": 6,
      "outputs": [
        {
          "output_type": "stream",
          "name": "stdout",
          "text": [
            "Requirement already satisfied: PyPDF2 in /usr/local/lib/python3.11/dist-packages (3.0.1)\n"
          ]
        }
      ]
    },
    {
      "cell_type": "code",
      "source": [
        "import PyPDF2\n",
        "\n",
        "def extract_text_from_pdf(pdf_path):\n",
        "\n",
        "    \"\"\"Extracts text from a given health report PDF using PyPDF2.\"\"\"\n",
        "\n",
        "    text = \"\"\n",
        "    with open(pdf_path, \"rb\") as file:\n",
        "      reader = PyPDF2.PdfReader(file)\n",
        "      for page in reader.pages:\n",
        "        text += page.extract_text() + \"\\n\"\n",
        "        return text"
      ],
      "metadata": {
        "id": "MOWk4flniir6"
      },
      "execution_count": 7,
      "outputs": []
    },
    {
      "cell_type": "code",
      "source": [
        "def extract_health_insights(text):\n",
        "  \"\"\"Asks Gemini extracts health insights from a given text.\"\"\"\n",
        "  model=genai.GenerativeModel(\"gemini-1.5-flash\")\n",
        "  prompt=f\"Extract key insights from the following health report: {text}\"\n",
        "  response=model.generate_content(prompt)\n",
        "  return response.text\n",
        "pdf_file=\"health_report.pdf\"\n",
        "extracted_text=extract_text_from_pdf(pdf_file)\n",
        "insights=extract_health_insights(extracted_text)\n",
        "print(insights)"
      ],
      "metadata": {
        "colab": {
          "base_uri": "https://localhost:8080/",
          "height": 176
        },
        "id": "x48uid_YjN_J",
        "outputId": "8d4e7361-28dd-416c-ea81-64a4fedfa27c"
      },
      "execution_count": 8,
      "outputs": [
        {
          "output_type": "stream",
          "name": "stdout",
          "text": [
            "The key insights from the Widal test report for Mr. Kishan Goud (MR2100003157) are:\n",
            "\n",
            "* **Positive for *Salmonella Typhi*:**  The titers for *Salmonella Typhi* \"O\" (1:160) and \"H\" (1:80) are significantly higher than the reference range (1:20), indicating a likely current or recent infection with *Salmonella Typhi* (typhoid fever).  The \"O\" antigen titer is higher than the \"H\" antigen titer, which is typical in acute typhoid.\n",
            "\n",
            "* **Negative for *Salmonella Paratyphi*:** The titers for both *Salmonella Paratyphi* \"A\" and \"B\" are within the reference range (1:20), suggesting no current infection with these organisms.\n",
            "\n",
            "**In summary:** The report strongly suggests a *Salmonella Typhi* infection (typhoid fever) in Mr. Kishan Goud.  Further clinical evaluation and treatment are warranted.  The report does not provide the interpretation of the results, only the raw data.  A physician should interpret this data in the context of the patient's clinical presentation.\n",
            "\n"
          ]
        }
      ]
    },
    {
      "cell_type": "code",
      "source": [
        "def summarize_health_report(text):\n",
        "  \"\"\"Summarize the health report using Gemini AI.\"\"\"\n",
        "  model=genai.GenerativeModel(\"gemini-1.5-flash\")\n",
        "  prompt=f\"Summarize the following health report in a concise manner: {text}\"\n",
        "  response=model.generate_content(prompt)\n",
        "  return response.text\n",
        "\n",
        "summary=summarize_health_report(extracted_text)\n",
        "print(summary)"
      ],
      "metadata": {
        "colab": {
          "base_uri": "https://localhost:8080/",
          "height": 72
        },
        "id": "nK-o1wG0jPuo",
        "outputId": "d523ba7f-6327-40ca-f964-403c2a704f08"
      },
      "execution_count": 9,
      "outputs": [
        {
          "output_type": "stream",
          "name": "stdout",
          "text": [
            "Mr. Kishan Goud's Widal test (MR2100003157) shows elevated titers for *Salmonella Typhi* O (1:160) and H (1:80), suggesting possible past or present typhoid infection.  *Salmonella Paratyphi* A and B titers were within the normal range.\n",
            "\n"
          ]
        }
      ]
    },
    {
      "cell_type": "code",
      "source": [
        "def detect_abnormalities(text):\n",
        "  \"\"\" Analyze lab test results and flags abnormal values.\"\"\"\n",
        "  model=genai.GenerativeModel(\"gemini-1.5-flash\")\n",
        "  prompt=f\" : {text}\"\n",
        "  response=model.generate_content(prompt)\n",
        "  return response.text\n",
        "\n",
        "summary=detect_abnormalities(extracted_text)\n",
        "print(summary)"
      ],
      "metadata": {
        "colab": {
          "base_uri": "https://localhost:8080/",
          "height": 384
        },
        "id": "UwhxIFS-jRiP",
        "outputId": "eab122d1-fb5c-494c-e59a-f3902dc876c2"
      },
      "execution_count": 14,
      "outputs": [
        {
          "output_type": "stream",
          "name": "stdout",
          "text": [
            "This lab report shows the results of a Widal test for typhoid fever performed on Mr. Kishan Goud.  Let's break down the findings:\n",
            "\n",
            "**Widal Test Results:** The Widal test detects antibodies against *Salmonella* species, suggesting a possible infection.  The dilutions indicate the antibody concentration:\n",
            "\n",
            "* **S. Typhi \"O\" 1:160:**  A high titer (1:160) suggesting a possible current or recent infection with *Salmonella Typhi* (the bacteria that causes typhoid fever).  The \"O\" antigen refers to the somatic antigen of the bacteria.\n",
            "\n",
            "* **S. Typhi \"H\" 1:80:** A moderate titer (1:80) also suggesting possible exposure or infection with *Salmonella Typhi*. The \"H\" antigen refers to the flagellar antigen.\n",
            "\n",
            "* **S. Paratyphi \"AH\" 1:20:** A low titer (1:20) which is within the reference range, indicating no significant infection with *Salmonella Paratyphi A*.\n",
            "\n",
            "* **S. Paratyphi \"BH\" 1:20:** A low titer (1:20) also within the reference range, indicating no significant infection with *Salmonella Paratyphi B*.\n",
            "\n",
            "**Interpretation:**\n",
            "\n",
            "The high titer for S. Typhi \"O\" and the moderate titer for S. Typhi \"H\" strongly suggest a current or recent infection with *Salmonella Typhi*.  However, the Widal test is not definitive.  It's important to consider other factors and possibly further testing.  A positive Widal test can also be caused by prior exposure or vaccination.  False positives are possible.\n",
            "\n",
            "**Reference Range:** The report shows a reference range of 1:20.  Any titer above 1:20 is considered positive, but the significance increases with higher titers.\n",
            "\n",
            "**Important Note:** This interpretation is for informational purposes only and should not be considered medical advice.  Mr. Kishan Goud should discuss these results with his physician, Dr. Krishna Prasad, who can consider these findings along with the patient's clinical presentation and order any necessary follow-up tests to confirm a diagnosis and determine appropriate treatment.\n",
            "\n"
          ]
        }
      ]
    },
    {
      "cell_type": "code",
      "source": [
        "def explain_medical_terms(text):\n",
        "  \"\"\" Analyze lab test results and flags abnormal values.\"\"\"\n",
        "  model=genai.GenerativeModel(\"gemini-1.5-flash\")\n",
        "  prompt=f\"Explain the medical terms in the following health report in simple language : {text}\"\n",
        "\n",
        "  response = model.generate_content(prompt)\n",
        "  return response.text\n",
        "\n",
        "summary=explain_medical_terms(extracted_text)\n",
        "print(summary)"
      ],
      "metadata": {
        "colab": {
          "base_uri": "https://localhost:8080/",
          "height": 280
        },
        "id": "cVJI8sX_qSEu",
        "outputId": "0fed7ee7-f8bd-4807-a7bd-78aab113a99d"
      },
      "execution_count": 15,
      "outputs": [
        {
          "output_type": "stream",
          "name": "stdout",
          "text": [
            "This report shows the results of a Widal test, a blood test used to check for typhoid fever and paratyphoid fever.  Let's break down the results:\n",
            "\n",
            "* **S. Typhi \"O\"**: This refers to the \"O\" antigen of *Salmonella Typhi*, the bacteria that causes typhoid fever.  A result of 1:160 means a significant antibody reaction was detected.  The reference range is 1:20, meaning a result above 1:20 suggests a possible infection.  Mr. Kishan Goud's result is considerably higher, suggesting a past or current infection with *Salmonella Typhi*.\n",
            "\n",
            "* **S. Typhi \"H\"**: This refers to the \"H\" antigen of *Salmonella Typhi*.  A result of 1:80 is also higher than the reference range (1:20) indicating a possible infection with *Salmonella Typhi*.\n",
            "\n",
            "* **S. Paratyphi \"A\" H**: This refers to the \"H\" antigen of *Salmonella Paratyphi A*,  a bacteria that causes paratyphoid fever.  His result of 1:20 is at the upper limit of the normal range, so it's not definitively positive for infection.\n",
            "\n",
            "* **S. Paratyphi \"B\" H**: This refers to the \"H\" antigen of *Salmonella Paratyphi B*, another cause of paratyphoid fever.  His result of 1:20 is also at the upper limit of the normal range, indicating no clear evidence of infection.\n",
            "\n",
            "**In simple terms:** The test suggests Mr. Kishan Goud likely had or has typhoid fever (indicated by the high levels of antibodies against *Salmonella Typhi*). The results for paratyphoid are not conclusive.\n",
            "\n",
            "**Important Note:** A Widal test is not definitive.  Other tests might be needed to confirm the diagnosis.  A doctor should interpret these results in the context of the patient's symptoms and other medical information.  The high \"O\" and \"H\" antibodies for *Salmonella Typhi* are the most significant findings.\n",
            "\n"
          ]
        }
      ]
    },
    {
      "cell_type": "code",
      "source": [],
      "metadata": {
        "id": "71KzEwfLjik6"
      },
      "execution_count": 10,
      "outputs": []
    }
  ]
}